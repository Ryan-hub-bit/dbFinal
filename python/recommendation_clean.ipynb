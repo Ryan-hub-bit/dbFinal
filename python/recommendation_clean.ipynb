{
 "cells": [
  {
   "cell_type": "code",
   "execution_count": null,
   "metadata": {},
   "outputs": [],
   "source": [
    "import pandas as pd\n",
    "import numpy as np\n",
    "from sklearn.feature_extraction.text import TfidfVectorizer\n",
    "from sklearn.metrics.pairwise import linear_kernel\n",
    "import warnings; warnings.simplefilter('ignore')\n",
    "import mysql.connector"
   ]
  },
  {
   "cell_type": "code",
   "execution_count": null,
   "metadata": {},
   "outputs": [],
   "source": [
    "def get_recommendations(userID, n_rec=10):\n",
    "    #Connect to Database\n",
    "    cnx = mysql.connector.connect(host='localhost',database='db',user='root',password='rootroot')\n",
    "\n",
    "    print('Connection Successful')\n",
    "    \n",
    "    #Get favorite and movies\n",
    "    qryFav = 'SELECT D.movie_id, D.tagline FROM watchedMovies AS W, mDetail AS D WHERE W.Watched_movie_id = D.movie_id AND W.user_id = ' + str(userID)\n",
    "    qryMov = 'SELECT D.movie_id, D.tagline FROM mDetail AS D'\n",
    "    \n",
    "    cursor = cnx.cursor()\n",
    "    cursor.execute(qryMov)\n",
    "    mov = pd.DataFrame(data=list(cursor), columns = cursor.column_names)\n",
    "    cursor.close()\n",
    "    \n",
    "    cursor = cnx.cursor()\n",
    "    cursor.execute(qryFav)\n",
    "    fav = pd.DataFrame(data=list(cursor), columns = cursor.column_names)\n",
    "    cursor.close()\n",
    "    \n",
    "    print('Query Successful')\n",
    "    \n",
    "    #Data processing\n",
    "    mov['tagline'] = mov['tagline'].fillna('')\n",
    "    fav['tagline'] = fav['tagline'].fillna('')\n",
    "    rec = recommend(n_rec, mov, fav)\n",
    "    \n",
    "    print('Processing Successful')\n",
    "    \n",
    "    #Write to recommendations table\n",
    "    cursor = cnx.cursor()\n",
    "    for movie in df.itertuples(index=False, name=None):\n",
    "        sql = 'INSERT INTO recommendation(movie_id, score) VALUES (%s, %d)''\n",
    "        val = movie\n",
    "        mycursor.execute(sql, val)\n",
    "    cnx.commit()\n",
    "    cnx.close()\n",
    "    \n",
    "    print('Write Successful')\n",
    "    \n",
    "    return rec"
   ]
  },
  {
   "cell_type": "code",
   "execution_count": null,
   "metadata": {},
   "outputs": [],
   "source": [
    "def recommend(n_rec, mov, fav):\n",
    "    #similarity analysis\n",
    "    tf = TfidfVectorizer(analyzer='word', ngram_range=(1, 2), min_df=0, stop_words='english')\n",
    "    tfidf_mov = tf.fit_transform(mov['tagline'])\n",
    "    sim = linear_kernel(tfidf_mov, tfidf_mov)\n",
    "\n",
    "    mov = mov.reset_index()\n",
    "    ttl = mov['movie_id']\n",
    "    idx = pd.Series(mov.index, index=mov['movie_id'])\n",
    "    \n",
    "    #recommendation on favorites\n",
    "    title = fav['movie_id']\n",
    "    sim_scores = np.array(sim[idx[title]]) \n",
    "    avg_scores = np.average(sim_scores, axis=0)\n",
    "    avg_scores = list(enumerate(avg_scores))\n",
    "    avg_scores = sorted(avg_scores, key=lambda x: x[1], reverse=True)\n",
    "    avg_scores = avg_scores[title.size:title.size+n_rec]\n",
    "    movie_idx = [i[0] for i in avg_scores]\n",
    "    movie_rec = ttl.iloc[movie_idx].to_frame()\n",
    "    movie_rec['score'] = [i[1]*100 for i in avg_scores]\n",
    "    \n",
    "    return movie_rec"
   ]
  },
  {
   "cell_type": "code",
   "execution_count": null,
   "metadata": {},
   "outputs": [],
   "source": [
    "get_recommendations(10)"
   ]
  },
  {
   "cell_type": "code",
   "execution_count": null,
   "metadata": {},
   "outputs": [],
   "source": [
    "def test_connection():\n",
    "    #Connect to Database\n",
    "    cnx = mysql.connector.connect(host='localhost',database='db',user='root',password='rootroot')\t\n",
    "\n",
    "    cursor = cnx.cursor()\n",
    "    cursor.execute('SELECT D.movie_id, D.tagline FROM mDetail AS D')\n",
    "    mov = pd.DataFrame(data=list(cursor),columns = cursor.column_names)\n",
    "    cnx.close()\n",
    "    \n",
    "    print('Connection Successful') \n",
    "\n",
    "    return mov"
   ]
  }
 ],
 "metadata": {
  "kernelspec": {
   "display_name": "Python 3",
   "language": "python",
   "name": "python3"
  },
  "language_info": {
   "codemirror_mode": {
    "name": "ipython",
    "version": 3
   },
   "file_extension": ".py",
   "mimetype": "text/x-python",
   "name": "python",
   "nbconvert_exporter": "python",
   "pygments_lexer": "ipython3",
   "version": "3.7.9"
  }
 },
 "nbformat": 4,
 "nbformat_minor": 4
}
